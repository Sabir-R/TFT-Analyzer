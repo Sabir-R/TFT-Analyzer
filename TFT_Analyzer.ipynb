{
 "cells": [
  {
   "cell_type": "markdown",
   "id": "b584c1dc",
   "metadata": {},
   "source": [
    "# Imports\n",
    "\n",
    "The data from Riot is accessed through riotwatcher. Since I am doing TFT specifically, I need the TFT Watcher. I imported ApiError as well so I can create some blocks later on that look for if I get an error code and figure why and what to do next. The data from the api is returned as a json file, that I will go through. I imported time so that I can make a timer between API calls due to the limits placed by Riot. I also need to load my api keys from an environment file, so that I don't make my API keys public :)"
   ]
  },
  {
   "cell_type": "code",
   "execution_count": 6,
   "id": "d64eca70",
   "metadata": {},
   "outputs": [],
   "source": [
    "import pandas as pd\n",
    "import json\n",
    "import time\n",
    "\n",
    "from riotwatcher import TftWatcher\n",
    "from riotwatcher import ApiError\n",
    "\n",
    "import os\n",
    "from dotenv import load_dotenv"
   ]
  },
  {
   "cell_type": "markdown",
   "id": "6207489b",
   "metadata": {},
   "source": [
    "## Setting up Riot API access\n",
    "\n",
    "Riot API key expires every 24 hours, so need to put new API key here for requests. Website to generate a new key: https://developer.riotgames.com"
   ]
  },
  {
   "cell_type": "code",
   "execution_count": null,
   "id": "456575d9",
   "metadata": {},
   "outputs": [
    {
     "name": "stdout",
     "output_type": "stream",
     "text": [
      "TFT Watcher is ready to go!\n"
     ]
    }
   ],
   "source": [
    "# Set the new API Key\n",
    "load_dotenv()\n",
    "API_KEY = os.getenv(\"RIOT_API_KEY\")\n",
    "\n",
    "# Riot ID\n",
    "RIOT_ID = os.getenv(\"MY_RIOT_ID\")\n",
    "\n",
    "# Account Region\n",
    "MY_REGION = os.getenv(\"MY_REGION\")\n",
    "\n",
    "# Account Server\n",
    "MY_SERVER = os.getenv(\"MY_SERVER\")\n",
    "\n",
    "# Check if API Key works and if data is ready to pull\n",
    "try: \n",
    "    watcher = TftWatcher(API_KEY)\n",
    "    print(\"TFT Watcher is ready to go!\")\n",
    "except Exception as e:\n",
    "    print(f\"Failed to initialize TftWatcher. Check your API Key. Error: {e}\")\n",
    "    watcher = None"
   ]
  },
  {
   "cell_type": "markdown",
   "id": "98e2ce9a",
   "metadata": {},
   "source": [
    "## Script to get the most recent match data\n",
    "\n",
    "Since this is the first time making this database, I will need to pull the data from all the games I have played already so far this set."
   ]
  }
 ],
 "metadata": {
  "kernelspec": {
   "display_name": "base",
   "language": "python",
   "name": "python3"
  },
  "language_info": {
   "codemirror_mode": {
    "name": "ipython",
    "version": 3
   },
   "file_extension": ".py",
   "mimetype": "text/x-python",
   "name": "python",
   "nbconvert_exporter": "python",
   "pygments_lexer": "ipython3",
   "version": "3.12.7"
  }
 },
 "nbformat": 4,
 "nbformat_minor": 5
}
